{
 "cells": [
  {
   "cell_type": "code",
   "execution_count": 1,
   "id": "f0f1f9dc-dfe2-494b-b3ac-d4909783de6f",
   "metadata": {},
   "outputs": [],
   "source": [
    "import numpy as np\n",
    "import matplotlib.pyplot as plt\n",
    "from mpl_toolkits.mplot3d import Axes3D\n",
    "\n",
    "def calculate_normal_vector(points):\n",
    "    v1 = points[1] - points[0]\n",
    "    v2 = points[2] - points[0]\n",
    "    return np.cross(v1, v2)\n",
    "def rotate_to_xy(points):\n",
    "    normal_vector = calculate_normal_vector(points)\n",
    "    theta = -np.arctan2(normal_vector[1], normal_vector[0])\n",
    "    if np.isclose(theta, np.pi/2, atol=1e-2) or np.isclose(theta, -np.pi/2, atol=1e-2):\n",
    "        rotated_points = points[:, [0, 2]]\n",
    "    elif np.isclose(theta, 0, atol=1e-2) or np.isclose(theta, np.pi, atol=1e-2) or np.isclose(theta, -np.pi, atol=1e-2):\n",
    "        rotated_points = points[:, [1, 2]]\n",
    "    else:\n",
    "        Rz = np.array([\n",
    "            [np.cos(theta), -np.sin(theta), 0],\n",
    "            [np.sin(theta), np.cos(theta), 0],\n",
    "            [0, 0, 1]\n",
    "        ])\n",
    "        rotated_points = np.dot(points, Rz.T)\n",
    "        rotated_points = rotated_points[:, 1:]\n",
    "    return rotated_points, theta"
   ]
  },
  {
   "cell_type": "code",
   "execution_count": 23,
   "id": "b6e8f558-7c41-4bc0-8509-5889cd3a6355",
   "metadata": {},
   "outputs": [
    {
     "name": "stdout",
     "output_type": "stream",
     "text": [
      "[[-10.77032961   0.        ]\n",
      " [-10.77032961   5.        ]\n",
      " [-16.15549442   0.        ]]\n",
      "2.761086276477428\n"
     ]
    },
    {
     "data": {
      "text/plain": [
       "array([[-10.77032961,   0.        ],\n",
       "       [-10.77032961,   5.        ],\n",
       "       [-16.15549442,   0.        ]])"
      ]
     },
     "execution_count": 23,
     "metadata": {},
     "output_type": "execute_result"
    }
   ],
   "source": [
    "points = np.array([[-4, 10, 0], [-4, 10, 5], [-6,15,0]])\n",
    "# points = np.array([[6, 8, 0], [9, 12, 0], [6, 8, 5]])\n",
    "\n",
    "aligned_points, theta = rotate_to_xy(points)\n",
    "print(aligned_points)\n",
    "print(theta)\n",
    "points_following = points#np.array([[-4, 10, 0], [-4, 10, 5], [-6,15,0]])\n",
    "rotated_points = rotate_follow(points_following, theta)\n",
    "rotated_points"
   ]
  },
  {
   "cell_type": "code",
   "execution_count": 6,
   "id": "1ba95e35-3fd4-4b80-9e1d-e6f4bf837547",
   "metadata": {},
   "outputs": [],
   "source": [
    "points = np.array([[6, 8, 0], [9, 12, 0], [6, 8, 5]])\n",
    "theta = 36.87"
   ]
  },
  {
   "cell_type": "code",
   "execution_count": 19,
   "id": "170ad411-4834-4cf1-a0b1-74f5cc825e45",
   "metadata": {},
   "outputs": [],
   "source": [
    "def rotate_follow(points, theta):\n",
    "    theta_rad = np.radians(theta) if abs(theta) > np.pi else theta\n",
    "    \n",
    "    # Create the rotation matrix around Z-axis\n",
    "    Rz = np.array([\n",
    "        [np.cos(theta_rad), -np.sin(theta_rad), 0],\n",
    "        [np.sin(theta_rad), np.cos(theta_rad), 0],\n",
    "        [0, 0, 1]\n",
    "    ])\n",
    "    \n",
    "    # Rotate the points\n",
    "    rotated_points = np.dot(points, Rz.T)\n",
    "    return rotated_points[:, 1:]"
   ]
  },
  {
   "cell_type": "code",
   "execution_count": 13,
   "id": "4800a4c3-0ea9-45d1-a7d6-7c725a598d33",
   "metadata": {},
   "outputs": [],
   "source": [
    "def rotate_follow(points, theta):\n",
    "    if np.isclose(theta, np.pi/2, atol=1e-2) or np.isclose(theta, -np.pi/2, atol=1e-2):\n",
    "        rotated_points = points[:, [0, 2]]\n",
    "    elif np.isclose(theta, 0, atol=1e-2) or np.isclose(theta, np.pi, atol=1e-2) or np.isclose(theta, -np.pi, atol=1e-2):\n",
    "        rotated_points = points[:, [1, 2]]\n",
    "    else:\n",
    "        theta_rad = np.radians(theta) if abs(theta) > np.pi else theta\n",
    "        Rz = np.array([\n",
    "            [np.cos(theta_rad), -np.sin(theta_rad), 0],\n",
    "            [np.sin(theta_rad), np.cos(theta_rad), 0],\n",
    "            [0, 0, 1]\n",
    "        ])\n",
    "        rotated_points = np.dot(points, Rz.T)\n",
    "        rotated_points = rotated_points[:, 1:]\n",
    "    return rotated_points"
   ]
  },
  {
   "cell_type": "code",
   "execution_count": 14,
   "id": "5fa0ee7b-9d8e-4e88-b604-cf376ba742a9",
   "metadata": {},
   "outputs": [
    {
     "data": {
      "text/plain": [
       "array([[10.,  0.],\n",
       "       [15.,  0.],\n",
       "       [10.,  5.]])"
      ]
     },
     "execution_count": 14,
     "metadata": {},
     "output_type": "execute_result"
    }
   ],
   "source": [
    "rotate_follow(points, theta)"
   ]
  },
  {
   "cell_type": "code",
   "execution_count": null,
   "id": "6a1f3257-46f0-4cbc-910d-74c823e5277c",
   "metadata": {},
   "outputs": [],
   "source": []
  }
 ],
 "metadata": {
  "kernelspec": {
   "display_name": "Python 3 (ipykernel)",
   "language": "python",
   "name": "python3"
  },
  "language_info": {
   "codemirror_mode": {
    "name": "ipython",
    "version": 3
   },
   "file_extension": ".py",
   "mimetype": "text/x-python",
   "name": "python",
   "nbconvert_exporter": "python",
   "pygments_lexer": "ipython3",
   "version": "3.9.19"
  }
 },
 "nbformat": 4,
 "nbformat_minor": 5
}
